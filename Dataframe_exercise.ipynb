{
  "nbformat": 4,
  "nbformat_minor": 0,
  "metadata": {
    "colab": {
      "name": "Untitled2.ipynb",
      "provenance": [],
      "collapsed_sections": [],
      "authorship_tag": "ABX9TyPUV71r46pSNFoHCbqf12hB",
      "include_colab_link": true
    },
    "kernelspec": {
      "name": "python3",
      "display_name": "Python 3"
    },
    "language_info": {
      "name": "python"
    }
  },
  "cells": [
    {
      "cell_type": "markdown",
      "metadata": {
        "id": "view-in-github",
        "colab_type": "text"
      },
      "source": [
        "<a href=\"https://colab.research.google.com/github/Kulsum0255/Learning/blob/main/Dataframe_exercise.ipynb\" target=\"_parent\"><img src=\"https://colab.research.google.com/assets/colab-badge.svg\" alt=\"Open In Colab\"/></a>"
      ]
    },
    {
      "cell_type": "code",
      "metadata": {
        "colab": {
          "base_uri": "https://localhost:8080/",
          "height": 204
        },
        "id": "5nR1S9YDqiX-",
        "outputId": "6237d1d6-8d24-4182-9f24-ed9c26d747d9"
      },
      "source": [
        "'''\n",
        "Creating a DataFrame\n",
        "The following code cell creates a simple DataFrame containing 10 cells organized as follows:\n",
        "\n",
        "5 rows\n",
        "2 columns, one named temperature and the other named activity\n",
        "The following code cell instantiates a pd.DataFrame class to generate a DataFrame. The class takes two arguments:\n",
        "\n",
        "The first argument provides the data to populate the 10 cells. The code cell calls np.array to generate the 5x2 NumPy array.\n",
        "The second argument identifies the names of the two columns.\n",
        "'''\n",
        "\n",
        "import numpy as np\n",
        "import pandas as pd\n",
        "\n",
        "my_rows=np.array([[4,5],[5,7],[8,5],[8,4],[2,1]])\n",
        "my_rows\n",
        "my_colums=['temp','activity']\n",
        "my_colums\n",
        "my_dataframe=pd.DataFrame(data=my_rows,columns=my_colums)\n",
        "my_dataframe"
      ],
      "execution_count": 3,
      "outputs": [
        {
          "output_type": "execute_result",
          "data": {
            "text/html": [
              "<div>\n",
              "<style scoped>\n",
              "    .dataframe tbody tr th:only-of-type {\n",
              "        vertical-align: middle;\n",
              "    }\n",
              "\n",
              "    .dataframe tbody tr th {\n",
              "        vertical-align: top;\n",
              "    }\n",
              "\n",
              "    .dataframe thead th {\n",
              "        text-align: right;\n",
              "    }\n",
              "</style>\n",
              "<table border=\"1\" class=\"dataframe\">\n",
              "  <thead>\n",
              "    <tr style=\"text-align: right;\">\n",
              "      <th></th>\n",
              "      <th>temp</th>\n",
              "      <th>activity</th>\n",
              "    </tr>\n",
              "  </thead>\n",
              "  <tbody>\n",
              "    <tr>\n",
              "      <th>0</th>\n",
              "      <td>4</td>\n",
              "      <td>5</td>\n",
              "    </tr>\n",
              "    <tr>\n",
              "      <th>1</th>\n",
              "      <td>5</td>\n",
              "      <td>7</td>\n",
              "    </tr>\n",
              "    <tr>\n",
              "      <th>2</th>\n",
              "      <td>8</td>\n",
              "      <td>5</td>\n",
              "    </tr>\n",
              "    <tr>\n",
              "      <th>3</th>\n",
              "      <td>8</td>\n",
              "      <td>4</td>\n",
              "    </tr>\n",
              "    <tr>\n",
              "      <th>4</th>\n",
              "      <td>2</td>\n",
              "      <td>1</td>\n",
              "    </tr>\n",
              "  </tbody>\n",
              "</table>\n",
              "</div>"
            ],
            "text/plain": [
              "   temp  activity\n",
              "0     4         5\n",
              "1     5         7\n",
              "2     8         5\n",
              "3     8         4\n",
              "4     2         1"
            ]
          },
          "metadata": {},
          "execution_count": 3
        }
      ]
    },
    {
      "cell_type": "code",
      "metadata": {
        "colab": {
          "base_uri": "https://localhost:8080/",
          "height": 204
        },
        "id": "6jeKAKF2r5E6",
        "outputId": "187d7a29-581e-447a-aba2-61cf99bda260"
      },
      "source": [
        "'''\n",
        "Adding a new column to a DataFrame\n",
        "You may add a new column to an existing pandas DataFrame just by assigning values to a new column name. For example, the following code creates a third column named adjusted in my_dataframe:\n",
        "'''\n",
        "my_dataframe['adjusted']=my_dataframe['activity']+2  #+2 is added to values of activity column\n",
        "my_dataframe"
      ],
      "execution_count": 5,
      "outputs": [
        {
          "output_type": "execute_result",
          "data": {
            "text/html": [
              "<div>\n",
              "<style scoped>\n",
              "    .dataframe tbody tr th:only-of-type {\n",
              "        vertical-align: middle;\n",
              "    }\n",
              "\n",
              "    .dataframe tbody tr th {\n",
              "        vertical-align: top;\n",
              "    }\n",
              "\n",
              "    .dataframe thead th {\n",
              "        text-align: right;\n",
              "    }\n",
              "</style>\n",
              "<table border=\"1\" class=\"dataframe\">\n",
              "  <thead>\n",
              "    <tr style=\"text-align: right;\">\n",
              "      <th></th>\n",
              "      <th>temp</th>\n",
              "      <th>activity</th>\n",
              "      <th>adjusted</th>\n",
              "    </tr>\n",
              "  </thead>\n",
              "  <tbody>\n",
              "    <tr>\n",
              "      <th>0</th>\n",
              "      <td>4</td>\n",
              "      <td>5</td>\n",
              "      <td>7</td>\n",
              "    </tr>\n",
              "    <tr>\n",
              "      <th>1</th>\n",
              "      <td>5</td>\n",
              "      <td>7</td>\n",
              "      <td>9</td>\n",
              "    </tr>\n",
              "    <tr>\n",
              "      <th>2</th>\n",
              "      <td>8</td>\n",
              "      <td>5</td>\n",
              "      <td>7</td>\n",
              "    </tr>\n",
              "    <tr>\n",
              "      <th>3</th>\n",
              "      <td>8</td>\n",
              "      <td>4</td>\n",
              "      <td>6</td>\n",
              "    </tr>\n",
              "    <tr>\n",
              "      <th>4</th>\n",
              "      <td>2</td>\n",
              "      <td>1</td>\n",
              "      <td>3</td>\n",
              "    </tr>\n",
              "  </tbody>\n",
              "</table>\n",
              "</div>"
            ],
            "text/plain": [
              "   temp  activity  adjusted\n",
              "0     4         5         7\n",
              "1     5         7         9\n",
              "2     8         5         7\n",
              "3     8         4         6\n",
              "4     2         1         3"
            ]
          },
          "metadata": {},
          "execution_count": 5
        }
      ]
    },
    {
      "cell_type": "code",
      "metadata": {
        "colab": {
          "base_uri": "https://localhost:8080/"
        },
        "id": "lNBLdqP5sphC",
        "outputId": "e26f4df5-ff91-41d0-a940-a3b1513aaaf5"
      },
      "source": [
        "'''\n",
        "Specifying a subset of a DataFrame\n",
        "Pandas provide multiples ways to isolate specific rows, columns, slices or cells in a DataFrame.\n",
        "'''\n",
        "print(\"Rows #0, #1, and #2:\")\n",
        "print(my_dataframe.head(3), '\\n')\n",
        "\n",
        "print(\"Row #2:\")\n",
        "print(my_dataframe.iloc[[2]], '\\n')\n",
        "\n",
        "print(\"Rows #1, #2, and #3:\")\n",
        "print(my_dataframe[1:4], '\\n')\n",
        "\n",
        "print(\"Column 'temperature':\")\n",
        "print(my_dataframe['temp'])"
      ],
      "execution_count": 8,
      "outputs": [
        {
          "output_type": "stream",
          "name": "stdout",
          "text": [
            "Rows #0, #1, and #2:\n",
            "   temp  activity  adjusted\n",
            "0     4         5         7\n",
            "1     5         7         9\n",
            "2     8         5         7 \n",
            "\n",
            "Row #2:\n",
            "   temp  activity  adjusted\n",
            "2     8         5         7 \n",
            "\n",
            "Rows #1, #2, and #3:\n",
            "   temp  activity  adjusted\n",
            "1     5         7         9\n",
            "2     8         5         7\n",
            "3     8         4         6 \n",
            "\n",
            "Column 'temperature':\n",
            "0    4\n",
            "1    5\n",
            "2    8\n",
            "3    8\n",
            "4    2\n",
            "Name: temp, dtype: int64\n"
          ]
        }
      ]
    }
  ]
}