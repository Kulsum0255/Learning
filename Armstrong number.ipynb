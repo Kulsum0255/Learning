{
 "cells": [
  {
   "cell_type": "code",
   "execution_count": 2,
   "id": "8ac0c095",
   "metadata": {},
   "outputs": [
    {
     "name": "stdout",
     "output_type": "stream",
     "text": [
      "Enter a number\n",
      "5\n",
      "Yes,It is a Armstrong number\n"
     ]
    }
   ],
   "source": [
    "n=input(\"Enter a number\\n\")\n",
    "\n",
    "l=len(n)\n",
    "\n",
    "s=0\n",
    "\n",
    "for i in n:\n",
    "\n",
    "  s= s+ (int(i)**l)\n",
    "\n",
    "if s==int(n):\n",
    "\n",
    "  print(\"Yes,It is a Armstrong number\")\n",
    "\n",
    "else:\n",
    "\n",
    "  print(\"No, It is not a Armstrong number\")"
   ]
  },
  {
   "cell_type": "code",
   "execution_count": null,
   "id": "99284d2e",
   "metadata": {},
   "outputs": [],
   "source": []
  }
 ],
 "metadata": {
  "kernelspec": {
   "display_name": "Python 3",
   "language": "python",
   "name": "python3"
  },
  "language_info": {
   "codemirror_mode": {
    "name": "ipython",
    "version": 3
   },
   "file_extension": ".py",
   "mimetype": "text/x-python",
   "name": "python",
   "nbconvert_exporter": "python",
   "pygments_lexer": "ipython3",
   "version": "3.8.8"
  }
 },
 "nbformat": 4,
 "nbformat_minor": 5
}
