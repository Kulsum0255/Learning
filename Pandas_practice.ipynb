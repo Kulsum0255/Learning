{
  "nbformat": 4,
  "nbformat_minor": 0,
  "metadata": {
    "colab": {
      "name": "Pandas_practice.ipynb",
      "provenance": [],
      "collapsed_sections": [],
      "authorship_tag": "ABX9TyP+AEEYuMCK5H114fqFEIbr",
      "include_colab_link": true
    },
    "kernelspec": {
      "name": "python3",
      "display_name": "Python 3"
    },
    "language_info": {
      "name": "python"
    }
  },
  "cells": [
    {
      "cell_type": "markdown",
      "metadata": {
        "id": "view-in-github",
        "colab_type": "text"
      },
      "source": [
        "<a href=\"https://colab.research.google.com/github/Kulsum0255/Learning/blob/main/Pandas_practice.ipynb\" target=\"_parent\"><img src=\"https://colab.research.google.com/assets/colab-badge.svg\" alt=\"Open In Colab\"/></a>"
      ]
    },
    {
      "cell_type": "code",
      "metadata": {
        "colab": {
          "base_uri": "https://localhost:8080/"
        },
        "id": "uXlSweHstsZv",
        "outputId": "a05b0e7b-ca18-4fcb-cde0-0c1efbc6f33f"
      },
      "source": [
        "'''\n",
        "Task 1: Create a DataFrame\n",
        "Do the following:\n",
        "\n",
        "Create an 3x4 (3 rows x 4 columns) pandas DataFrame in which the columns are named Eleanor, Chidi, Tahani, and Jason. Populate each of the 12 cells in the DataFrame with a random integer between 0 and 100, inclusive.\n",
        "\n",
        "Output the following:\n",
        "\n",
        "the entire DataFrame\n",
        "the value in the cell of row #1 of the Eleanor column\n",
        "Create a fifth column named Janet, which is populated with the row-by-row sums of Tahani and Jason.\n",
        "'''\n",
        "\n",
        "import numpy as np\n",
        "import pandas as pd\n",
        "\n",
        "# Create a Python list that holds the names of the four columns.\n",
        "my_colums=['Eleanor','Chidi','Tahani','Jason']\n",
        "\n",
        "# Create a 3x4 numpy array, each cell populated with a random integer.\n",
        "my_rows=np.random.randint(low=0, high=101, size=(3,4))\n",
        "\n",
        "# Create a DataFrame.\n",
        "my_dataframe= pd.DataFrame(data=my_rows,columns=my_colums)\n",
        "print(my_dataframe)\n",
        "\n",
        "# Print the value in row #1 of the Eleanor column.\n",
        "print(\"#row 1 of Eleanor \\n\", my_dataframe['Eleanor'][1])\n",
        "\n",
        "# Create a column named Janet whose contents are the sum of two other columns.\n",
        "my_dataframe['Janet']=my_dataframe['Eleanor']+my_dataframe['Jason']\n",
        "print(my_dataframe['Janet'])\n",
        "\n",
        "# Print the enhanced DataFrame\n",
        "print(\"Enhance dataframe is: \\n\", my_dataframe)\n"
      ],
      "execution_count": 3,
      "outputs": [
        {
          "output_type": "stream",
          "name": "stdout",
          "text": [
            "   Eleanor  Chidi  Tahani  Jason\n",
            "0       40     97      31     62\n",
            "1       95      4      19     41\n",
            "2       27     21      44     50\n",
            "#row 1 of Eleanor \n",
            " 95\n",
            "0    102\n",
            "1    136\n",
            "2     77\n",
            "Name: Janet, dtype: int64\n",
            "Enhance dataframe is: \n",
            "    Eleanor  Chidi  Tahani  Jason  Janet\n",
            "0       40     97      31     62    102\n",
            "1       95      4      19     41    136\n",
            "2       27     21      44     50     77\n"
          ]
        }
      ]
    },
    {
      "cell_type": "code",
      "metadata": {
        "colab": {
          "base_uri": "https://localhost:8080/"
        },
        "id": "3KOw91581PMS",
        "outputId": "f2ea69e9-99cc-4d40-faca-38abb149dda3"
      },
      "source": [
        "'''\n",
        "Copying a DataFrame (optional)\n",
        "Pandas provides two different ways to duplicate a DataFrame:\n",
        "\n",
        "Referencing. If you assign a DataFrame to a new variable, any change to the DataFrame or to the new variable will be reflected in the other.\n",
        "Copying. If you call the pd.DataFrame.copy method, you create a true independent copy. Changes to the original DataFrame or to the copy will not be reflected in the other.\n",
        "The difference is subtle, but important.\n",
        "'''\n",
        "\n",
        "# Create a reference by assigning my_dataframe to a new variable.\n",
        "print(\"Lets learn reference variable to create duplicate\")\n",
        "reference_df=  my_dataframe\n",
        "print(reference_df)\n",
        "print(\"\\n\")\n",
        "\n",
        "# Print the starting value of a particular cell.\n",
        "print(\"Starting value of my_dataframe \\n :\", my_dataframe['Jason'][1])\n",
        "print(\"Starting value of reference_df \\n :\", reference_df['Jason'][1])\n",
        "\n",
        "# Modify a cell in df.\n",
        "my_dataframe.at[1,'Jason']=my_dataframe['Jason'][1] +5\n",
        "print(\"Starting value of my_dataframe after modification \\n :\", my_dataframe['Jason'][1])\n",
        "print(\"Starting value of reference_df after modification in my_dataframe \\n :\", reference_df['Jason'][1])\n",
        "print(\"\\n\")\n",
        "\n",
        "# Create a true copy of my_dataframe\n",
        "print(\"Lets learn copy\")\n",
        "copy_my_dataframe=my_dataframe.copy()\n",
        "\n",
        "# Print the starting value of a particular cell.\n",
        "print(\"  Starting value of my_dataframe: %d\" % my_dataframe['Tahani'][1])\n",
        "print(\"  Starting value of copy_of_my_dataframe: %d\\n\" % copy_my_dataframe['Tahani'][1])\n",
        "\n",
        "# Modify a cell in df.\n",
        "my_dataframe.at[1, 'Tahani'] = my_dataframe['Tahani'][1] + 3\n",
        "print(\"  Updated my_dataframe: %d\" % my_dataframe['Tahani'][1])\n",
        "print(\"  copy_of_my_dataframe does not get updated: %d\" % copy_my_dataframe['Tahani'][1])\n",
        "\n",
        "print(my_dataframe)\n",
        "print(copy_my_dataframe)"
      ],
      "execution_count": 6,
      "outputs": [
        {
          "output_type": "stream",
          "name": "stdout",
          "text": [
            "Lets learn reference variable to create duplicate\n",
            "   Eleanor  Chidi  Tahani  Jason  Janet\n",
            "0       40     97      31     62    102\n",
            "1       95      4      22     51    136\n",
            "2       27     21      44     50     77\n",
            "\n",
            "\n",
            "Starting value of my_dataframe \n",
            " : 51\n",
            "Starting value of reference_df \n",
            " : 51\n",
            "Starting value of my_dataframe after modification \n",
            " : 56\n",
            "Starting value of reference_df after modification in my_dataframe \n",
            " : 56\n",
            "\n",
            "\n",
            "Lets learn copy\n",
            "  Starting value of my_dataframe: 22\n",
            "  Starting value of copy_of_my_dataframe: 22\n",
            "\n",
            "  Updated my_dataframe: 25\n",
            "  copy_of_my_dataframe does not get updated: 22\n",
            "   Eleanor  Chidi  Tahani  Jason  Janet\n",
            "0       40     97      31     62    102\n",
            "1       95      4      25     56    136\n",
            "2       27     21      44     50     77\n",
            "   Eleanor  Chidi  Tahani  Jason  Janet\n",
            "0       40     97      31     62    102\n",
            "1       95      4      22     56    136\n",
            "2       27     21      44     50     77\n"
          ]
        }
      ]
    }
  ]
}