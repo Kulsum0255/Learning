{
  "nbformat": 4,
  "nbformat_minor": 0,
  "metadata": {
    "colab": {
      "name": "Linear regression with synthetic data.ipynb",
      "provenance": [],
      "collapsed_sections": [],
      "authorship_tag": "ABX9TyP7c1IMI6OVjPlVSGMEHI/c",
      "include_colab_link": true
    },
    "kernelspec": {
      "name": "python3",
      "display_name": "Python 3"
    },
    "language_info": {
      "name": "python"
    }
  },
  "cells": [
    {
      "cell_type": "markdown",
      "metadata": {
        "id": "view-in-github",
        "colab_type": "text"
      },
      "source": [
        "<a href=\"https://colab.research.google.com/github/Kulsum0255/Learning/blob/main/Linear_regression_with_synthetic_data.ipynb\" target=\"_parent\"><img src=\"https://colab.research.google.com/assets/colab-badge.svg\" alt=\"Open In Colab\"/></a>"
      ]
    },
    {
      "cell_type": "code",
      "metadata": {
        "id": "bYXqT9ws3BMi"
      },
      "source": [
        "import pandas as pd\n",
        "from matplotlib import pyplot as plt\n",
        "\n",
        "learning_rate=0.01\n",
        "epochs=10\n",
        "my_batch_size=12\n",
        "\n",
        "my_model = build_model(learning_rate)\n",
        "trained_weight, trained_bias, epochs, rmse = train_model(my_model, my_feature, \n",
        "                                                         my_label, epochs,\n",
        "                                                         my_batch_size)\n",
        "plot_the_model(trained_weight, trained_bias, my_feature, my_label)\n",
        "plot_the_loss_curve(epochs, rmse)"
      ],
      "execution_count": null,
      "outputs": []
    },
    {
      "cell_type": "code",
      "metadata": {
        "colab": {
          "base_uri": "https://localhost:8080/"
        },
        "id": "7kyGQcnQ3Kpv",
        "outputId": "2ced3b8b-bb46-4344-d658-8e2cca015fe7"
      },
      "source": [
        "def build_my_model(my_learning_rate):\n",
        "  model=tf.keras.models.Sequential()\n",
        "  model.add(tf.keras.layers.Dense(units=1,input_shape=(1,)))\n",
        "  model.compile(optimizer=tf.keras.optimizers.RMSprops(lr=my_learning_rate),loss=\"mean_squared_loss\",metrics=[tf.keras.metrics.RootMeanSquareError()])\n",
        "  return model\n",
        "print(\"Defined create model\")\n",
        "\n",
        "def train_model(model,feature,label,epochs,batch_size):\n",
        "  history=model.fit(x=feature,y=label,batch_size=12,epochs=10)\n",
        "  trained_weights=model.get_weights()\n",
        "  trained_bias=model.get_weights()\n",
        "  epochs=history.epochs\n",
        "  hist=pd.Dataframe(history.history)\n",
        "  rmse=hist[\"root_mean_square_error\"]\n",
        "  return trained_weights, trained_bias,epochs,rmse\n",
        "print(\"Defined train model\")\n",
        "\n",
        "def plot_the_model(trained_weights, trained_bias, feature, label):\n",
        "  plt.xlabel(\"feature\")\n",
        "  plt.ylabel(\"label\")\n",
        "  plt.scatter(feature,label)\n",
        "  x0=0\n",
        "  y0=trained_bias\n",
        "  x1=feature[-1]\n",
        "  y1=trained_bias +(trained_weights*x1)\n",
        "  plt.plot([x0,x1],[y0,y1],c='r')\n",
        "  plt.show()\n",
        "print(\"plotted model\")\n",
        "\n",
        "def plot_the_loss_curve(epochs,rmse):\n",
        "  plt.figure()\n",
        "  plt.xlabel(\"epochs\")\n",
        "  plt.ylabel(\"Root mean Squared error\")\n",
        "  plt.plot(epochs,rmse,label=\"Loss\")\n",
        "  plt.legend()\n",
        "  plt.ylim([rmse.min()*0.97,rmse,max()])\n",
        "  plt.show()\n",
        "print(\"plotted loss curve\")"
      ],
      "execution_count": 3,
      "outputs": [
        {
          "output_type": "stream",
          "name": "stdout",
          "text": [
            "Defined create model\n",
            "Defined train model\n",
            "plotted model\n",
            "plotted loss curve\n"
          ]
        }
      ]
    },
    {
      "cell_type": "code",
      "metadata": {
        "id": "jsVNbpyLDqYe"
      },
      "source": [
        ""
      ],
      "execution_count": 5,
      "outputs": []
    }
  ]
}