{
 "cells": [
  {
   "cell_type": "code",
   "execution_count": 12,
   "id": "90e36327",
   "metadata": {},
   "outputs": [
    {
     "name": "stdout",
     "output_type": "stream",
     "text": [
      "Enter name-kulsum\n",
      "Enter age-26\n",
      "Enter Gender-Female\n",
      "Enter address-Pune\n"
     ]
    }
   ],
   "source": [
    "a={\"Name\":[],\"Age\":[],\"Gender\":[],\"Address\":[]}\n",
    "n=input(\"Enter name-\")\n",
    "ag=int(input(\"Enter age-\"))\n",
    "g=input(\"Enter Gender-\")\n",
    "ad=input(\"Enter address-\")\n",
    "a[\"Name\"].append(n)\n",
    "a[\"Age\"].append(ag)\n",
    "a[\"Gender\"].append(g)\n",
    "a[\"Address\"].append(ad)"
   ]
  },
  {
   "cell_type": "code",
   "execution_count": 13,
   "id": "50678ca1",
   "metadata": {},
   "outputs": [
    {
     "data": {
      "text/plain": [
       "{'Name': ['kulsum'], 'Age': [26], 'Gender': ['Female'], 'Address': ['Pune']}"
      ]
     },
     "execution_count": 13,
     "metadata": {},
     "output_type": "execute_result"
    }
   ],
   "source": [
    "a"
   ]
  },
  {
   "cell_type": "code",
   "execution_count": null,
   "id": "7b272eac",
   "metadata": {},
   "outputs": [],
   "source": []
  }
 ],
 "metadata": {
  "kernelspec": {
   "display_name": "Python 3",
   "language": "python",
   "name": "python3"
  },
  "language_info": {
   "codemirror_mode": {
    "name": "ipython",
    "version": 3
   },
   "file_extension": ".py",
   "mimetype": "text/x-python",
   "name": "python",
   "nbconvert_exporter": "python",
   "pygments_lexer": "ipython3",
   "version": "3.8.8"
  }
 },
 "nbformat": 4,
 "nbformat_minor": 5
}
