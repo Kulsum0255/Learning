{
 "cells": [
  {
   "cell_type": "code",
   "execution_count": 3,
   "id": "4c059730",
   "metadata": {},
   "outputs": [
    {
     "name": "stdout",
     "output_type": "stream",
     "text": [
      "Enter principle amount: 100\n",
      "Enter Time: 5\n",
      "Enter Rate: 7\n",
      "Simple interest is:  35.0\n"
     ]
    }
   ],
   "source": [
    "P=int(input(\"Enter principle amount: \"))\n",
    "T=int(input(\"Enter Time: \"))\n",
    "R=int(input(\"Enter Rate: \"))\n",
    "SI=(P*T*R)/100\n",
    "print(\"Simple interest is: \",SI)"
   ]
  },
  {
   "cell_type": "code",
   "execution_count": null,
   "id": "be1857c6",
   "metadata": {},
   "outputs": [],
   "source": []
  }
 ],
 "metadata": {
  "kernelspec": {
   "display_name": "Python 3",
   "language": "python",
   "name": "python3"
  },
  "language_info": {
   "codemirror_mode": {
    "name": "ipython",
    "version": 3
   },
   "file_extension": ".py",
   "mimetype": "text/x-python",
   "name": "python",
   "nbconvert_exporter": "python",
   "pygments_lexer": "ipython3",
   "version": "3.8.8"
  }
 },
 "nbformat": 4,
 "nbformat_minor": 5
}
