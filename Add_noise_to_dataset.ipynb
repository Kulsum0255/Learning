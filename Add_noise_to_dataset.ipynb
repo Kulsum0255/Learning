{
  "nbformat": 4,
  "nbformat_minor": 0,
  "metadata": {
    "colab": {
      "name": "Add_noise_to_dataset.ipynb",
      "provenance": [],
      "collapsed_sections": [],
      "authorship_tag": "ABX9TyN3g67aqbi6yWX6/G8asFrU",
      "include_colab_link": true
    },
    "kernelspec": {
      "name": "python3",
      "display_name": "Python 3"
    },
    "language_info": {
      "name": "python"
    }
  },
  "cells": [
    {
      "cell_type": "markdown",
      "metadata": {
        "id": "view-in-github",
        "colab_type": "text"
      },
      "source": [
        "<a href=\"https://colab.research.google.com/github/Kulsum0255/Learning/blob/main/Add_noise_to_dataset.ipynb\" target=\"_parent\"><img src=\"https://colab.research.google.com/assets/colab-badge.svg\" alt=\"Open In Colab\"/></a>"
      ]
    },
    {
      "cell_type": "code",
      "metadata": {
        "colab": {
          "base_uri": "https://localhost:8080/"
        },
        "id": "k9VFkEsz-N5a",
        "outputId": "a956f622-4631-452a-bd50-4f0309f49154"
      },
      "source": [
        "'''\n",
        "Task -Add Some Noise to the Dataset\n",
        "To make your dataset a little more realistic, insert a little random noise into each element of the label array you already created. To be more precise, modify each value assigned to label by adding a different random floating-point value between -2 and +2.\n",
        "\n",
        "Don't rely on broadcasting. Instead, create a noise array having the same dimension as label.\n",
        "noise = ?    # write your code here\n",
        "print(noise)\n",
        "label = ?    # write your code here\n",
        "print(label)\n",
        "'''\n",
        "\n",
        "import numpy as np\n",
        "feature = np.arange(6, 21)\n",
        "print(feature)\n",
        "label = (feature * 3) + 4\n",
        "print(label)\n",
        "\n",
        "#here we add noise\n",
        "noise = (np.random.random([15]) * 4) - 2\n",
        "print(noise)\n",
        "label = label + noise \n",
        "print(label)"
      ],
      "execution_count": 4,
      "outputs": [
        {
          "output_type": "stream",
          "name": "stdout",
          "text": [
            "[ 6  7  8  9 10 11 12 13 14 15 16 17 18 19 20]\n",
            "[22 25 28 31 34 37 40 43 46 49 52 55 58 61 64]\n",
            "[-0.72183419 -1.7127332  -1.89750051  0.94652039  0.62109106 -1.07416812\n",
            "  0.63922216 -0.25445173 -1.83508076  1.77302862 -1.60272573 -0.14760918\n",
            "  0.53147185 -0.5869356   0.65829037]\n",
            "[21.27816581 23.2872668  26.10249949 31.94652039 34.62109106 35.92583188\n",
            " 40.63922216 42.74554827 44.16491924 50.77302862 50.39727427 54.85239082\n",
            " 58.53147185 60.4130644  64.65829037]\n"
          ]
        }
      ]
    }
  ]
}