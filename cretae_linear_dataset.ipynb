{
  "nbformat": 4,
  "nbformat_minor": 0,
  "metadata": {
    "colab": {
      "name": "cretae_linear_dataset.ipynb",
      "provenance": [],
      "collapsed_sections": [],
      "authorship_tag": "ABX9TyMs2vSsF1HIV36ECVJZiJdf",
      "include_colab_link": true
    },
    "kernelspec": {
      "name": "python3",
      "display_name": "Python 3"
    },
    "language_info": {
      "name": "python"
    }
  },
  "cells": [
    {
      "cell_type": "markdown",
      "metadata": {
        "id": "view-in-github",
        "colab_type": "text"
      },
      "source": [
        "<a href=\"https://colab.research.google.com/github/Kulsum0255/Learning/blob/main/cretae_linear_dataset.ipynb\" target=\"_parent\"><img src=\"https://colab.research.google.com/assets/colab-badge.svg\" alt=\"Open In Colab\"/></a>"
      ]
    },
    {
      "cell_type": "code",
      "metadata": {
        "id": "1Rh6s9u07jqH"
      },
      "source": [
        ""
      ],
      "execution_count": 1,
      "outputs": []
    },
    {
      "cell_type": "code",
      "metadata": {
        "colab": {
          "base_uri": "https://localhost:8080/"
        },
        "id": "pPZKat0Z8Udk",
        "outputId": "4335b558-2a23-4cce-d434-adfb399e4b94"
      },
      "source": [
        "'''\n",
        "Your goal is to create a simple dataset consisting of a single feature and a label as follows:\n",
        "\n",
        "Assign a sequence of integers from 6 to 20 (inclusive) to a NumPy array named feature.\n",
        "Assign 15 values to a NumPy array named label such that:\n",
        " label = (3)(feature) + 4\n",
        "\n",
        "feature = ? # write your code here\n",
        "print(feature)\n",
        "label = ?   # write your code here\n",
        "print(label)\n",
        "'''\n",
        "\n",
        "#y(label)=mx(feature)+b\n",
        "import numpy as np\n",
        "feature=np.arange(6,21)\n",
        "feature\n",
        "label= (3*feature) + 4\n",
        "print(label)\n",
        "\n"
      ],
      "execution_count": 8,
      "outputs": [
        {
          "output_type": "stream",
          "name": "stdout",
          "text": [
            "[22 25 28 31 34 37 40 43 46 49 52 55 58 61]\n"
          ]
        }
      ]
    }
  ]
}