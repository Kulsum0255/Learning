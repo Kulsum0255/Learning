{
 "cells": [
  {
   "cell_type": "code",
   "execution_count": 4,
   "metadata": {},
   "outputs": [
    {
     "data": {
      "text/plain": [
       "dict"
      ]
     },
     "execution_count": 4,
     "metadata": {},
     "output_type": "execute_result"
    }
   ],
   "source": [
    "a = {\"Audi\":\"R8\",\n",
    "     \"Lamborghini\":\"Aventador\",\n",
    "     \"Maruti Suzuki\":\"Swift\",\n",
    "     \"Hyundai\":\"i20\",\n",
    "     \"Ferrari\":\"F80\"\n",
    "    }\n",
    "type(a)"
   ]
  },
  {
   "cell_type": "code",
   "execution_count": 5,
   "metadata": {},
   "outputs": [
    {
     "data": {
      "text/plain": [
       "'R8'"
      ]
     },
     "execution_count": 5,
     "metadata": {},
     "output_type": "execute_result"
    }
   ],
   "source": [
    "a[\"Audi\"]"
   ]
  },
  {
   "cell_type": "code",
   "execution_count": 6,
   "metadata": {},
   "outputs": [],
   "source": [
    "a[\"Tesla\"] = \"Cyber Truck\""
   ]
  },
  {
   "cell_type": "code",
   "execution_count": 7,
   "metadata": {},
   "outputs": [
    {
     "data": {
      "text/plain": [
       "{'Audi': 'R8',\n",
       " 'Lamborghini': 'Aventador',\n",
       " 'Maruti Suzuki': 'Swift',\n",
       " 'Hyundai': 'i20',\n",
       " 'Ferrari': 'F80',\n",
       " 'Tesla': 'Cyber Truck'}"
      ]
     },
     "execution_count": 7,
     "metadata": {},
     "output_type": "execute_result"
    }
   ],
   "source": [
    "a"
   ]
  },
  {
   "cell_type": "code",
   "execution_count": 8,
   "metadata": {},
   "outputs": [
    {
     "data": {
      "text/plain": [
       "'Cyber Truck'"
      ]
     },
     "execution_count": 8,
     "metadata": {},
     "output_type": "execute_result"
    }
   ],
   "source": [
    "a[\"Tesla\"]"
   ]
  },
  {
   "cell_type": "code",
   "execution_count": 10,
   "metadata": {},
   "outputs": [],
   "source": [
    "a[\"Kia\"] = \"Cee'd\""
   ]
  },
  {
   "cell_type": "code",
   "execution_count": 11,
   "metadata": {},
   "outputs": [
    {
     "data": {
      "text/plain": [
       "{'Audi': 'R8',\n",
       " 'Lamborghini': 'Aventador',\n",
       " 'Maruti Suzuki': 'Swift',\n",
       " 'Hyundai': 'i20',\n",
       " 'Ferrari': 'F80',\n",
       " 'Tesla': 'Cyber Truck',\n",
       " 'Kia': \"Cee'd\"}"
      ]
     },
     "execution_count": 11,
     "metadata": {},
     "output_type": "execute_result"
    }
   ],
   "source": [
    "a"
   ]
  },
  {
   "cell_type": "code",
   "execution_count": 14,
   "metadata": {},
   "outputs": [
    {
     "data": {
      "text/plain": [
       "{'Audi': 'R8',\n",
       " 'Lamborghini': 'Aventador',\n",
       " 'Maruti Suzuki': 'Swift',\n",
       " 'Hyundai': 'i20',\n",
       " 'Ferrari': '458',\n",
       " 'Tesla': 'Cyber Truck',\n",
       " 'Kia': \"Cee'd\",\n",
       " 'Ferrai': '458'}"
      ]
     },
     "execution_count": 14,
     "metadata": {},
     "output_type": "execute_result"
    }
   ],
   "source": [
    "a[\"Ferrari\"] = \"458\"\n",
    "a"
   ]
  },
  {
   "cell_type": "code",
   "execution_count": 15,
   "metadata": {},
   "outputs": [
    {
     "data": {
      "text/plain": [
       "{'Audi': 'R8',\n",
       " 'Lamborghini': 'Aventador',\n",
       " 'Maruti Suzuki': 'Swift',\n",
       " 'Hyundai': 'i20',\n",
       " 'Ferrari': '458',\n",
       " 'Tesla': 'Cyber Truck',\n",
       " 'Kia': \"Cee'd\"}"
      ]
     },
     "execution_count": 15,
     "metadata": {},
     "output_type": "execute_result"
    }
   ],
   "source": [
    "a.pop(\"Ferrai\")\n",
    "a"
   ]
  },
  {
   "cell_type": "code",
   "execution_count": 16,
   "metadata": {},
   "outputs": [
    {
     "data": {
      "text/plain": [
       "{'Audi': 'R8',\n",
       " 'Lamborghini': 'Aventador',\n",
       " 'Maruti Suzuki': 'Swift',\n",
       " 'Hyundai': 'i20',\n",
       " 'Ferrari': '458',\n",
       " 'Tesla': 'Cyber Truck'}"
      ]
     },
     "execution_count": 16,
     "metadata": {},
     "output_type": "execute_result"
    }
   ],
   "source": [
    "del a[\"Kia\"]\n",
    "a"
   ]
  },
  {
   "cell_type": "code",
   "execution_count": 17,
   "metadata": {},
   "outputs": [
    {
     "data": {
      "text/plain": [
       "{}"
      ]
     },
     "execution_count": 17,
     "metadata": {},
     "output_type": "execute_result"
    }
   ],
   "source": [
    "a.clear()\n",
    "a"
   ]
  },
  {
   "cell_type": "code",
   "execution_count": 18,
   "metadata": {},
   "outputs": [],
   "source": [
    "del a"
   ]
  },
  {
   "cell_type": "code",
   "execution_count": 19,
   "metadata": {},
   "outputs": [
    {
     "ename": "NameError",
     "evalue": "name 'a' is not defined",
     "output_type": "error",
     "traceback": [
      "\u001b[0;31m---------------------------------------------------------------------------\u001b[0m",
      "\u001b[0;31mNameError\u001b[0m                                 Traceback (most recent call last)",
      "\u001b[0;32m<ipython-input-19-3f786850e387>\u001b[0m in \u001b[0;36m<module>\u001b[0;34m\u001b[0m\n\u001b[0;32m----> 1\u001b[0;31m \u001b[0ma\u001b[0m\u001b[0;34m\u001b[0m\u001b[0;34m\u001b[0m\u001b[0m\n\u001b[0m",
      "\u001b[0;31mNameError\u001b[0m: name 'a' is not defined"
     ]
    }
   ],
   "source": [
    "a"
   ]
  },
  {
   "cell_type": "code",
   "execution_count": 20,
   "metadata": {},
   "outputs": [],
   "source": [
    "a = {'Audi': 'R8',\n",
    " 'Lamborghini': 'Aventador',\n",
    " 'Maruti Suzuki': 'Swift',\n",
    " 'Hyundai': 'i20',\n",
    " 'Ferrari': '458',\n",
    " 'Tesla': 'Cyber Truck',\n",
    " 'Kia': \"Cee'd\"}"
   ]
  },
  {
   "cell_type": "code",
   "execution_count": 21,
   "metadata": {},
   "outputs": [
    {
     "name": "stdout",
     "output_type": "stream",
     "text": [
      "Audi\n",
      "Lamborghini\n",
      "Maruti Suzuki\n",
      "Hyundai\n",
      "Ferrari\n",
      "Tesla\n",
      "Kia\n"
     ]
    }
   ],
   "source": [
    "for i in a:\n",
    "    print(i)"
   ]
  },
  {
   "cell_type": "code",
   "execution_count": 22,
   "metadata": {},
   "outputs": [
    {
     "name": "stdout",
     "output_type": "stream",
     "text": [
      "R8\n",
      "Aventador\n",
      "Swift\n",
      "i20\n",
      "458\n",
      "Cyber Truck\n",
      "Cee'd\n"
     ]
    }
   ],
   "source": [
    "for i in a:\n",
    "    print(a[i])"
   ]
  },
  {
   "cell_type": "code",
   "execution_count": 24,
   "metadata": {},
   "outputs": [
    {
     "name": "stdout",
     "output_type": "stream",
     "text": [
      "Audi  ->  R8\n",
      "Lamborghini  ->  Aventador\n",
      "Maruti Suzuki  ->  Swift\n",
      "Hyundai  ->  i20\n",
      "Ferrari  ->  458\n",
      "Tesla  ->  Cyber Truck\n",
      "Kia  ->  Cee'd\n"
     ]
    }
   ],
   "source": [
    "for i in a:\n",
    "    print(i,\" -> \",a[i])"
   ]
  },
  {
   "cell_type": "code",
   "execution_count": 29,
   "metadata": {},
   "outputs": [],
   "source": [
    "a = {\"age\":[12,34,465,234,121]}"
   ]
  },
  {
   "cell_type": "code",
   "execution_count": 30,
   "metadata": {},
   "outputs": [
    {
     "data": {
      "text/plain": [
       "[12, 34, 465, 234, 121]"
      ]
     },
     "execution_count": 30,
     "metadata": {},
     "output_type": "execute_result"
    }
   ],
   "source": [
    "a[\"age\"]"
   ]
  },
  {
   "cell_type": "code",
   "execution_count": 31,
   "metadata": {},
   "outputs": [
    {
     "data": {
      "text/plain": [
       "[12, 34, 465, 234, 121, 9999999]"
      ]
     },
     "execution_count": 31,
     "metadata": {},
     "output_type": "execute_result"
    }
   ],
   "source": [
    "a[\"age\"].append(9999999)\n",
    "a[\"age\"]"
   ]
  },
  {
   "cell_type": "code",
   "execution_count": 32,
   "metadata": {},
   "outputs": [
    {
     "data": {
      "text/plain": [
       "{'age': [12, 34, 465, 234, 121, 9999999]}"
      ]
     },
     "execution_count": 32,
     "metadata": {},
     "output_type": "execute_result"
    }
   ],
   "source": [
    "a"
   ]
  },
  {
   "cell_type": "code",
   "execution_count": 33,
   "metadata": {},
   "outputs": [
    {
     "data": {
      "text/plain": [
       "{'Name': [], 'Gender': [], 'Age': [], 'Address': []}"
      ]
     },
     "execution_count": 33,
     "metadata": {},
     "output_type": "execute_result"
    }
   ],
   "source": [
    "a = {\n",
    "    \"Name\":[],\n",
    "    \"Gender\":[],\n",
    "    \"Age\":[],\n",
    "    \"Address\":[]\n",
    "}\n",
    "a"
   ]
  },
  {
   "cell_type": "code",
   "execution_count": 36,
   "metadata": {},
   "outputs": [
    {
     "name": "stdout",
     "output_type": "stream",
     "text": [
      "Enter Name\n",
      "Gayatri\n",
      "Enter gender\n",
      "F\n",
      "Enter age\n",
      "56\n",
      "Enter Address\n",
      "Kanchipuram\n"
     ]
    }
   ],
   "source": [
    "n = input(\"Enter Name\\n\")\n",
    "g = input(\"Enter gender\\n\")\n",
    "ag = int(input(\"Enter age\\n\"))\n",
    "ad = input(\"Enter Address\\n\")\n",
    "a[\"Name\"].append(n)\n",
    "a[\"Gender\"].append(g)\n",
    "a[\"Age\"].append(ag)\n",
    "a[\"Address\"].append(ad)"
   ]
  },
  {
   "cell_type": "code",
   "execution_count": 37,
   "metadata": {},
   "outputs": [
    {
     "data": {
      "text/plain": [
       "{'Name': ['Amrit', 'Gayatri'],\n",
       " 'Gender': ['M', 'F'],\n",
       " 'Age': [27, 56],\n",
       " 'Address': ['Chennai', 'Kanchipuram']}"
      ]
     },
     "execution_count": 37,
     "metadata": {},
     "output_type": "execute_result"
    }
   ],
   "source": [
    "a"
   ]
  },
  {
   "cell_type": "code",
   "execution_count": null,
   "metadata": {},
   "outputs": [],
   "source": []
  }
 ],
 "metadata": {
  "kernelspec": {
   "display_name": "Python 3",
   "language": "python",
   "name": "python3"
  },
  "language_info": {
   "codemirror_mode": {
    "name": "ipython",
    "version": 3
   },
   "file_extension": ".py",
   "mimetype": "text/x-python",
   "name": "python",
   "nbconvert_exporter": "python",
   "pygments_lexer": "ipython3",
   "version": "3.7.4"
  }
 },
 "nbformat": 4,
 "nbformat_minor": 2
}
