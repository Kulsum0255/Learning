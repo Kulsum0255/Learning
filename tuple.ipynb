{
 "cells": [
  {
   "cell_type": "code",
   "execution_count": 12,
   "id": "7fdc32d2",
   "metadata": {},
   "outputs": [
    {
     "name": "stdout",
     "output_type": "stream",
     "text": [
      "<zip object at 0x000001E137A0DDC0>\n"
     ]
    },
    {
     "data": {
      "text/plain": [
       "[(3, 'sham'), (7, 'ryan'), (0, 'nora')]"
      ]
     },
     "execution_count": 12,
     "metadata": {},
     "output_type": "execute_result"
    }
   ],
   "source": [
    "#zip-function takes iterables,makes iterator that aggregates elements based on iterable passed and returns an iterator of tuple\n",
    "#syntax= zip(iterables)\n",
    "\n",
    "a=(3,7,0,6)\n",
    "\n",
    "b=('sham','ryan','nora')\n",
    "c=zip(a,b)\n",
    "print(c)\n",
    "type(c)\n",
    "list(c)"
   ]
  },
  {
   "cell_type": "code",
   "execution_count": 5,
   "id": "20223f5a",
   "metadata": {},
   "outputs": [
    {
     "name": "stdout",
     "output_type": "stream",
     "text": [
      "[10, 2, 4, 45, 67, 98, 0, 32, 34, 87]\n"
     ]
    }
   ],
   "source": [
    "b=(10,2,4,45,67,98,0,32,34,87)\n",
    "print(list(b))\n"
   ]
  },
  {
   "cell_type": "code",
   "execution_count": 8,
   "id": "faea9fa9",
   "metadata": {},
   "outputs": [
    {
     "name": "stdout",
     "output_type": "stream",
     "text": [
      "1\n"
     ]
    },
    {
     "data": {
      "text/plain": [
       "((0, 1), (1, 2), (2, 3))"
      ]
     },
     "execution_count": 8,
     "metadata": {},
     "output_type": "execute_result"
    }
   ],
   "source": [
    "a=1,2,3\n",
    "type(a)\n",
    "print(a[0])\n",
    "tuple(enumerate(a))"
   ]
  },
  {
   "cell_type": "code",
   "execution_count": null,
   "id": "910ec8c9",
   "metadata": {},
   "outputs": [],
   "source": []
  }
 ],
 "metadata": {
  "kernelspec": {
   "display_name": "Python 3",
   "language": "python",
   "name": "python3"
  },
  "language_info": {
   "codemirror_mode": {
    "name": "ipython",
    "version": 3
   },
   "file_extension": ".py",
   "mimetype": "text/x-python",
   "name": "python",
   "nbconvert_exporter": "python",
   "pygments_lexer": "ipython3",
   "version": "3.8.8"
  }
 },
 "nbformat": 4,
 "nbformat_minor": 5
}
