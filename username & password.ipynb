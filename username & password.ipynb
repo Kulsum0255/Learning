{
 "cells": [
  {
   "cell_type": "code",
   "execution_count": 2,
   "id": "952ce8fc",
   "metadata": {},
   "outputs": [
    {
     "name": "stdout",
     "output_type": "stream",
     "text": [
      "Enter name- admin\n",
      "Enter password- password\n",
      "Login successful\n"
     ]
    }
   ],
   "source": [
    "u=\"admin\"\n",
    "p=\"password\"\n",
    "user=input(\"Enter name- \")\n",
    "passw=input(\"Enter password- \")\n",
    "if u==user and p==passw:\n",
    "    print(\"Login successful\")\n",
    "else:\n",
    "    print(\"Login failed\")"
   ]
  },
  {
   "cell_type": "code",
   "execution_count": null,
   "id": "a857bd32",
   "metadata": {},
   "outputs": [],
   "source": []
  }
 ],
 "metadata": {
  "kernelspec": {
   "display_name": "Python 3",
   "language": "python",
   "name": "python3"
  },
  "language_info": {
   "codemirror_mode": {
    "name": "ipython",
    "version": 3
   },
   "file_extension": ".py",
   "mimetype": "text/x-python",
   "name": "python",
   "nbconvert_exporter": "python",
   "pygments_lexer": "ipython3",
   "version": "3.8.8"
  }
 },
 "nbformat": 4,
 "nbformat_minor": 5
}
