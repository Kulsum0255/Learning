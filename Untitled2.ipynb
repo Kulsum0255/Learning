{
 "cells": [
  {
   "cell_type": "code",
   "execution_count": 2,
   "id": "36366a57",
   "metadata": {},
   "outputs": [
    {
     "name": "stdout",
     "output_type": "stream",
     "text": [
      "Hello world\n"
     ]
    }
   ],
   "source": [
    "def test():\n",
    "    print(\"Hello world\")\n",
    "test()"
   ]
  },
  {
   "cell_type": "code",
   "execution_count": 4,
   "id": "296a5c07",
   "metadata": {},
   "outputs": [
    {
     "name": "stdout",
     "output_type": "stream",
     "text": [
      "4\n"
     ]
    }
   ],
   "source": [
    "def fun1(a):\n",
    "    print(a)\n",
    "fun1(4)"
   ]
  },
  {
   "cell_type": "code",
   "execution_count": 5,
   "id": "355e5d30",
   "metadata": {},
   "outputs": [
    {
     "name": "stdout",
     "output_type": "stream",
     "text": [
      "12\n"
     ]
    }
   ],
   "source": [
    "def add():\n",
    "    a=5\n",
    "    b=7\n",
    "    print(a+b)\n",
    "add()"
   ]
  },
  {
   "cell_type": "code",
   "execution_count": 7,
   "id": "619d0ff3",
   "metadata": {},
   "outputs": [
    {
     "name": "stdout",
     "output_type": "stream",
     "text": [
      "1000\n"
     ]
    }
   ],
   "source": [
    "def add1(a,b):\n",
    "    print(a+b)\n",
    "add1(999,1)"
   ]
  },
  {
   "cell_type": "code",
   "execution_count": 8,
   "id": "9efcc96c",
   "metadata": {},
   "outputs": [
    {
     "data": {
      "text/plain": [
       "9"
      ]
     },
     "execution_count": 8,
     "metadata": {},
     "output_type": "execute_result"
    }
   ],
   "source": [
    "def addd(a,b):\n",
    "    return (a+b)\n",
    "addd(4,5)"
   ]
  },
  {
   "cell_type": "code",
   "execution_count": 9,
   "id": "eb68958b",
   "metadata": {},
   "outputs": [
    {
     "name": "stdout",
     "output_type": "stream",
     "text": [
      "My name is ram and I am 23 years old and living in Pune .\n"
     ]
    }
   ],
   "source": [
    "def myself(name,age,address):\n",
    "    print(\"My name is\",name,'and I am',age,\"years old and living in\",address,\".\")\n",
    "myself('ram',23,'Pune')"
   ]
  },
  {
   "cell_type": "code",
   "execution_count": 12,
   "id": "af4586ed",
   "metadata": {},
   "outputs": [
    {
     "name": "stdout",
     "output_type": "stream",
     "text": [
      "Hello world\n"
     ]
    }
   ],
   "source": [
    "class a:\n",
    "    def fun(self):\n",
    "        print(\"Hello world\")\n",
    "        \n",
    "b=a()\n",
    "b.fun()"
   ]
  },
  {
   "cell_type": "code",
   "execution_count": null,
   "id": "3e9e5a92",
   "metadata": {},
   "outputs": [],
   "source": []
  }
 ],
 "metadata": {
  "kernelspec": {
   "display_name": "Python 3",
   "language": "python",
   "name": "python3"
  },
  "language_info": {
   "codemirror_mode": {
    "name": "ipython",
    "version": 3
   },
   "file_extension": ".py",
   "mimetype": "text/x-python",
   "name": "python",
   "nbconvert_exporter": "python",
   "pygments_lexer": "ipython3",
   "version": "3.8.8"
  }
 },
 "nbformat": 4,
 "nbformat_minor": 5
}
