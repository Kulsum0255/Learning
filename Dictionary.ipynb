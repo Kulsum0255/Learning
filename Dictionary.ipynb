{
 "cells": [
  {
   "cell_type": "code",
   "execution_count": 4,
   "id": "b5a3d520",
   "metadata": {},
   "outputs": [
    {
     "data": {
      "text/plain": [
       "(3, 'Sana')"
      ]
     },
     "execution_count": 4,
     "metadata": {},
     "output_type": "execute_result"
    }
   ],
   "source": [
    "#python is unordered collection of items and mutable, dictionaries are optimised to retriew values when key is known\n",
    "my_dict={1:\"kulsum\",2:\"shan\",3:\"Khan\",4:\"Shaikh\"}\n",
    "\n",
    "my_dict[3]='Sana' #checked mutable or not\n",
    "my_dict.get(3) #to retriew data ysing key\n",
    "my_dict.pop(4)  #pop is used to delete particular item\n",
    "my_dict.popitem()   #popitem is used to remove and return orbitary item(key value)"
   ]
  },
  {
   "cell_type": "code",
   "execution_count": null,
   "id": "322cb048",
   "metadata": {},
   "outputs": [],
   "source": []
  }
 ],
 "metadata": {
  "kernelspec": {
   "display_name": "Python 3",
   "language": "python",
   "name": "python3"
  },
  "language_info": {
   "codemirror_mode": {
    "name": "ipython",
    "version": 3
   },
   "file_extension": ".py",
   "mimetype": "text/x-python",
   "name": "python",
   "nbconvert_exporter": "python",
   "pygments_lexer": "ipython3",
   "version": "3.8.8"
  }
 },
 "nbformat": 4,
 "nbformat_minor": 5
}
