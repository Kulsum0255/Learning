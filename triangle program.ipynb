{
 "cells": [
  {
   "cell_type": "code",
   "execution_count": 3,
   "id": "f913ae12",
   "metadata": {},
   "outputs": [
    {
     "name": "stdout",
     "output_type": "stream",
     "text": [
      "triangle can be formed\n"
     ]
    }
   ],
   "source": [
    "a=7\n",
    "b=8\n",
    "c=4\n",
    "if a+b>c and b+c>a and c+a>b:\n",
    "    print(\"triangle can be formed\")\n",
    "else:\n",
    "    print(\"Triangle cannot be formed\")"
   ]
  },
  {
   "cell_type": "code",
   "execution_count": null,
   "id": "05ad23b9",
   "metadata": {},
   "outputs": [],
   "source": []
  }
 ],
 "metadata": {
  "kernelspec": {
   "display_name": "Python 3",
   "language": "python",
   "name": "python3"
  },
  "language_info": {
   "codemirror_mode": {
    "name": "ipython",
    "version": 3
   },
   "file_extension": ".py",
   "mimetype": "text/x-python",
   "name": "python",
   "nbconvert_exporter": "python",
   "pygments_lexer": "ipython3",
   "version": "3.8.8"
  }
 },
 "nbformat": 4,
 "nbformat_minor": 5
}
