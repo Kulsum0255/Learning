{
 "cells": [
  {
   "cell_type": "code",
   "execution_count": 1,
   "id": "6965cc0c",
   "metadata": {},
   "outputs": [
    {
     "name": "stdout",
     "output_type": "stream",
     "text": [
      "names       |weights     |çosts       |unit_costs  \n",
      "---------------------------------------------------\n",
      "bar         |0.05        |2.0         |40.0        \n",
      "çhocolate   |0.1         |5.0         |50.0        \n",
      "çhips       |0.25        |3.0         |12.0        \n"
     ]
    }
   ],
   "source": [
    "names=['bar','çhocolate','çhips']\n",
    "weights=[0.05,0.1,0.25]\n",
    "costs=[2.0,5.0,3.0]\n",
    "unit_costs=[40.0,50.0,12.0]\n",
    "titles=['names','weights','çosts','unit_costs']\n",
    "data=[titles] + list(zip(names,weights,costs,unit_costs))\n",
    "for i,d in enumerate(data):\n",
    "    line='|'.join(str(x).ljust(12) for x in d)\n",
    "    print(line)\n",
    "    if i==0:\n",
    "        print('-' * len(line))\n"
   ]
  },
  {
   "cell_type": "code",
   "execution_count": null,
   "id": "60bf04aa",
   "metadata": {},
   "outputs": [],
   "source": []
  }
 ],
 "metadata": {
  "kernelspec": {
   "display_name": "Python 3",
   "language": "python",
   "name": "python3"
  },
  "language_info": {
   "codemirror_mode": {
    "name": "ipython",
    "version": 3
   },
   "file_extension": ".py",
   "mimetype": "text/x-python",
   "name": "python",
   "nbconvert_exporter": "python",
   "pygments_lexer": "ipython3",
   "version": "3.8.8"
  }
 },
 "nbformat": 4,
 "nbformat_minor": 5
}
